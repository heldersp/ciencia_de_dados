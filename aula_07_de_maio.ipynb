{
  "nbformat": 4,
  "nbformat_minor": 0,
  "metadata": {
    "colab": {
      "provenance": []
    },
    "kernelspec": {
      "name": "python3",
      "display_name": "Python 3"
    },
    "language_info": {
      "name": "python"
    }
  },
  "cells": [
    {
      "cell_type": "markdown",
      "source": [
        "# Regressão Linear"
      ],
      "metadata": {
        "id": "VPx8cxmuN4Fn"
      }
    },
    {
      "cell_type": "code",
      "execution_count": 1,
      "metadata": {
        "id": "lDZTHfANMpdU"
      },
      "outputs": [],
      "source": [
        "# importando libs e e função Regressão Linear\n",
        "from sklearn.linear_model import LinearRegression\n",
        "import numpy as np"
      ]
    },
    {
      "cell_type": "code",
      "source": [
        "# Inserir dados aleatorios para alimentar modelo\n",
        "cv_enviados = np.array([1,2,3,4,5,6,7,8,9,10]).reshape(-1, 1) # Features\n",
        "entrevistas = np.array([1,1,2,4,4,2,7,5,8,7]) # Target"
      ],
      "metadata": {
        "id": "Di-2nMwUOhBv"
      },
      "execution_count": 2,
      "outputs": []
    },
    {
      "cell_type": "code",
      "source": [
        "# cria modelo de regressao linaer\n",
        "modelo = LinearRegression()"
      ],
      "metadata": {
        "id": "iYC8KntFPvGc"
      },
      "execution_count": 3,
      "outputs": []
    },
    {
      "cell_type": "code",
      "source": [
        "# metodo fit treinado com (feature, targets)\n",
        "modelo.fit(cv_enviados, entrevistas)"
      ],
      "metadata": {
        "colab": {
          "base_uri": "https://localhost:8080/",
          "height": 75
        },
        "id": "MQUDDMICP6g_",
        "outputId": "c18eed2e-94f4-4a55-f9f1-32221cacd1ed"
      },
      "execution_count": 4,
      "outputs": [
        {
          "output_type": "execute_result",
          "data": {
            "text/plain": [
              "LinearRegression()"
            ],
            "text/html": [
              "<style>#sk-container-id-1 {color: black;background-color: white;}#sk-container-id-1 pre{padding: 0;}#sk-container-id-1 div.sk-toggleable {background-color: white;}#sk-container-id-1 label.sk-toggleable__label {cursor: pointer;display: block;width: 100%;margin-bottom: 0;padding: 0.3em;box-sizing: border-box;text-align: center;}#sk-container-id-1 label.sk-toggleable__label-arrow:before {content: \"▸\";float: left;margin-right: 0.25em;color: #696969;}#sk-container-id-1 label.sk-toggleable__label-arrow:hover:before {color: black;}#sk-container-id-1 div.sk-estimator:hover label.sk-toggleable__label-arrow:before {color: black;}#sk-container-id-1 div.sk-toggleable__content {max-height: 0;max-width: 0;overflow: hidden;text-align: left;background-color: #f0f8ff;}#sk-container-id-1 div.sk-toggleable__content pre {margin: 0.2em;color: black;border-radius: 0.25em;background-color: #f0f8ff;}#sk-container-id-1 input.sk-toggleable__control:checked~div.sk-toggleable__content {max-height: 200px;max-width: 100%;overflow: auto;}#sk-container-id-1 input.sk-toggleable__control:checked~label.sk-toggleable__label-arrow:before {content: \"▾\";}#sk-container-id-1 div.sk-estimator input.sk-toggleable__control:checked~label.sk-toggleable__label {background-color: #d4ebff;}#sk-container-id-1 div.sk-label input.sk-toggleable__control:checked~label.sk-toggleable__label {background-color: #d4ebff;}#sk-container-id-1 input.sk-hidden--visually {border: 0;clip: rect(1px 1px 1px 1px);clip: rect(1px, 1px, 1px, 1px);height: 1px;margin: -1px;overflow: hidden;padding: 0;position: absolute;width: 1px;}#sk-container-id-1 div.sk-estimator {font-family: monospace;background-color: #f0f8ff;border: 1px dotted black;border-radius: 0.25em;box-sizing: border-box;margin-bottom: 0.5em;}#sk-container-id-1 div.sk-estimator:hover {background-color: #d4ebff;}#sk-container-id-1 div.sk-parallel-item::after {content: \"\";width: 100%;border-bottom: 1px solid gray;flex-grow: 1;}#sk-container-id-1 div.sk-label:hover label.sk-toggleable__label {background-color: #d4ebff;}#sk-container-id-1 div.sk-serial::before {content: \"\";position: absolute;border-left: 1px solid gray;box-sizing: border-box;top: 0;bottom: 0;left: 50%;z-index: 0;}#sk-container-id-1 div.sk-serial {display: flex;flex-direction: column;align-items: center;background-color: white;padding-right: 0.2em;padding-left: 0.2em;position: relative;}#sk-container-id-1 div.sk-item {position: relative;z-index: 1;}#sk-container-id-1 div.sk-parallel {display: flex;align-items: stretch;justify-content: center;background-color: white;position: relative;}#sk-container-id-1 div.sk-item::before, #sk-container-id-1 div.sk-parallel-item::before {content: \"\";position: absolute;border-left: 1px solid gray;box-sizing: border-box;top: 0;bottom: 0;left: 50%;z-index: -1;}#sk-container-id-1 div.sk-parallel-item {display: flex;flex-direction: column;z-index: 1;position: relative;background-color: white;}#sk-container-id-1 div.sk-parallel-item:first-child::after {align-self: flex-end;width: 50%;}#sk-container-id-1 div.sk-parallel-item:last-child::after {align-self: flex-start;width: 50%;}#sk-container-id-1 div.sk-parallel-item:only-child::after {width: 0;}#sk-container-id-1 div.sk-dashed-wrapped {border: 1px dashed gray;margin: 0 0.4em 0.5em 0.4em;box-sizing: border-box;padding-bottom: 0.4em;background-color: white;}#sk-container-id-1 div.sk-label label {font-family: monospace;font-weight: bold;display: inline-block;line-height: 1.2em;}#sk-container-id-1 div.sk-label-container {text-align: center;}#sk-container-id-1 div.sk-container {/* jupyter's `normalize.less` sets `[hidden] { display: none; }` but bootstrap.min.css set `[hidden] { display: none !important; }` so we also need the `!important` here to be able to override the default hidden behavior on the sphinx rendered scikit-learn.org. See: https://github.com/scikit-learn/scikit-learn/issues/21755 */display: inline-block !important;position: relative;}#sk-container-id-1 div.sk-text-repr-fallback {display: none;}</style><div id=\"sk-container-id-1\" class=\"sk-top-container\"><div class=\"sk-text-repr-fallback\"><pre>LinearRegression()</pre><b>In a Jupyter environment, please rerun this cell to show the HTML representation or trust the notebook. <br />On GitHub, the HTML representation is unable to render, please try loading this page with nbviewer.org.</b></div><div class=\"sk-container\" hidden><div class=\"sk-item\"><div class=\"sk-estimator sk-toggleable\"><input class=\"sk-toggleable__control sk-hidden--visually\" id=\"sk-estimator-id-1\" type=\"checkbox\" checked><label for=\"sk-estimator-id-1\" class=\"sk-toggleable__label sk-toggleable__label-arrow\">LinearRegression</label><div class=\"sk-toggleable__content\"><pre>LinearRegression()</pre></div></div></div></div></div>"
            ]
          },
          "metadata": {},
          "execution_count": 4
        }
      ]
    },
    {
      "cell_type": "code",
      "source": [
        "#inserindo novos dados pra testar modelo\n",
        "outros_cvs = np.array([47]).reshape(-1, 1)\n",
        "analise_preditiva = modelo.predict(outros_cvs)\n",
        "print(analise_preditiva)"
      ],
      "metadata": {
        "colab": {
          "base_uri": "https://localhost:8080/"
        },
        "id": "ghD9RODSQe30",
        "outputId": "0da40965-0d00-4056-88d9-f40c938144f6"
      },
      "execution_count": 5,
      "outputs": [
        {
          "output_type": "stream",
          "name": "stdout",
          "text": [
            "[35.53939394]\n"
          ]
        }
      ]
    },
    {
      "cell_type": "code",
      "source": [
        "# Acurverificando precisao (acurácia)\n",
        "acuracia = modelo.score(cv_enviados, entrevistas)\n",
        "print(acuracia)"
      ],
      "metadata": {
        "colab": {
          "base_uri": "https://localhost:8080/"
        },
        "id": "iO2UvOiaRCGx",
        "outputId": "247a4ea7-7fac-4c5a-fbcf-f94563407188"
      },
      "execution_count": 7,
      "outputs": [
        {
          "output_type": "stream",
          "name": "stdout",
          "text": [
            "0.7774792257550879\n"
          ]
        }
      ]
    },
    {
      "cell_type": "markdown",
      "source": [],
      "metadata": {
        "id": "lG-pjmQbRsa0"
      }
    },
    {
      "cell_type": "markdown",
      "source": [
        "# Classificação com Regressão Logística"
      ],
      "metadata": {
        "id": "bUBt_tDeRsd0"
      }
    },
    {
      "cell_type": "code",
      "source": [
        "# importando funções\n",
        "from sklearn.linear_model import LogisticRegression\n",
        "from sklearn.datasets import load_iris\n",
        "from sklearn.model_selection import train_test_split"
      ],
      "metadata": {
        "id": "uRjY8jrPRzh7"
      },
      "execution_count": 8,
      "outputs": []
    },
    {
      "cell_type": "code",
      "source": [
        "# carregando base de dados\n",
        "iris = load_iris()"
      ],
      "metadata": {
        "id": "OEalWjZnS3Pn"
      },
      "execution_count": 9,
      "outputs": []
    },
    {
      "cell_type": "code",
      "source": [
        "x_treino, x_teste, y_treino, y_teste = train_test_split(iris.data, iris.target,test_size=0.5, random_state=42)"
      ],
      "metadata": {
        "id": "-7PYJUO_TIeV"
      },
      "execution_count": 10,
      "outputs": []
    },
    {
      "cell_type": "code",
      "source": [
        "modelo = LogisticRegression()"
      ],
      "metadata": {
        "id": "l29Sd6rKTfMS"
      },
      "execution_count": 11,
      "outputs": []
    },
    {
      "cell_type": "code",
      "source": [
        "modelo.fit(x_treino, y_treino)"
      ],
      "metadata": {
        "colab": {
          "base_uri": "https://localhost:8080/",
          "height": 214
        },
        "id": "yCMEHjx9Tk0r",
        "outputId": "a55122a9-a149-4091-dd03-f93156245970"
      },
      "execution_count": 12,
      "outputs": [
        {
          "output_type": "stream",
          "name": "stderr",
          "text": [
            "/usr/local/lib/python3.10/dist-packages/sklearn/linear_model/_logistic.py:458: ConvergenceWarning: lbfgs failed to converge (status=1):\n",
            "STOP: TOTAL NO. of ITERATIONS REACHED LIMIT.\n",
            "\n",
            "Increase the number of iterations (max_iter) or scale the data as shown in:\n",
            "    https://scikit-learn.org/stable/modules/preprocessing.html\n",
            "Please also refer to the documentation for alternative solver options:\n",
            "    https://scikit-learn.org/stable/modules/linear_model.html#logistic-regression\n",
            "  n_iter_i = _check_optimize_result(\n"
          ]
        },
        {
          "output_type": "execute_result",
          "data": {
            "text/plain": [
              "LogisticRegression()"
            ],
            "text/html": [
              "<style>#sk-container-id-2 {color: black;background-color: white;}#sk-container-id-2 pre{padding: 0;}#sk-container-id-2 div.sk-toggleable {background-color: white;}#sk-container-id-2 label.sk-toggleable__label {cursor: pointer;display: block;width: 100%;margin-bottom: 0;padding: 0.3em;box-sizing: border-box;text-align: center;}#sk-container-id-2 label.sk-toggleable__label-arrow:before {content: \"▸\";float: left;margin-right: 0.25em;color: #696969;}#sk-container-id-2 label.sk-toggleable__label-arrow:hover:before {color: black;}#sk-container-id-2 div.sk-estimator:hover label.sk-toggleable__label-arrow:before {color: black;}#sk-container-id-2 div.sk-toggleable__content {max-height: 0;max-width: 0;overflow: hidden;text-align: left;background-color: #f0f8ff;}#sk-container-id-2 div.sk-toggleable__content pre {margin: 0.2em;color: black;border-radius: 0.25em;background-color: #f0f8ff;}#sk-container-id-2 input.sk-toggleable__control:checked~div.sk-toggleable__content {max-height: 200px;max-width: 100%;overflow: auto;}#sk-container-id-2 input.sk-toggleable__control:checked~label.sk-toggleable__label-arrow:before {content: \"▾\";}#sk-container-id-2 div.sk-estimator input.sk-toggleable__control:checked~label.sk-toggleable__label {background-color: #d4ebff;}#sk-container-id-2 div.sk-label input.sk-toggleable__control:checked~label.sk-toggleable__label {background-color: #d4ebff;}#sk-container-id-2 input.sk-hidden--visually {border: 0;clip: rect(1px 1px 1px 1px);clip: rect(1px, 1px, 1px, 1px);height: 1px;margin: -1px;overflow: hidden;padding: 0;position: absolute;width: 1px;}#sk-container-id-2 div.sk-estimator {font-family: monospace;background-color: #f0f8ff;border: 1px dotted black;border-radius: 0.25em;box-sizing: border-box;margin-bottom: 0.5em;}#sk-container-id-2 div.sk-estimator:hover {background-color: #d4ebff;}#sk-container-id-2 div.sk-parallel-item::after {content: \"\";width: 100%;border-bottom: 1px solid gray;flex-grow: 1;}#sk-container-id-2 div.sk-label:hover label.sk-toggleable__label {background-color: #d4ebff;}#sk-container-id-2 div.sk-serial::before {content: \"\";position: absolute;border-left: 1px solid gray;box-sizing: border-box;top: 0;bottom: 0;left: 50%;z-index: 0;}#sk-container-id-2 div.sk-serial {display: flex;flex-direction: column;align-items: center;background-color: white;padding-right: 0.2em;padding-left: 0.2em;position: relative;}#sk-container-id-2 div.sk-item {position: relative;z-index: 1;}#sk-container-id-2 div.sk-parallel {display: flex;align-items: stretch;justify-content: center;background-color: white;position: relative;}#sk-container-id-2 div.sk-item::before, #sk-container-id-2 div.sk-parallel-item::before {content: \"\";position: absolute;border-left: 1px solid gray;box-sizing: border-box;top: 0;bottom: 0;left: 50%;z-index: -1;}#sk-container-id-2 div.sk-parallel-item {display: flex;flex-direction: column;z-index: 1;position: relative;background-color: white;}#sk-container-id-2 div.sk-parallel-item:first-child::after {align-self: flex-end;width: 50%;}#sk-container-id-2 div.sk-parallel-item:last-child::after {align-self: flex-start;width: 50%;}#sk-container-id-2 div.sk-parallel-item:only-child::after {width: 0;}#sk-container-id-2 div.sk-dashed-wrapped {border: 1px dashed gray;margin: 0 0.4em 0.5em 0.4em;box-sizing: border-box;padding-bottom: 0.4em;background-color: white;}#sk-container-id-2 div.sk-label label {font-family: monospace;font-weight: bold;display: inline-block;line-height: 1.2em;}#sk-container-id-2 div.sk-label-container {text-align: center;}#sk-container-id-2 div.sk-container {/* jupyter's `normalize.less` sets `[hidden] { display: none; }` but bootstrap.min.css set `[hidden] { display: none !important; }` so we also need the `!important` here to be able to override the default hidden behavior on the sphinx rendered scikit-learn.org. See: https://github.com/scikit-learn/scikit-learn/issues/21755 */display: inline-block !important;position: relative;}#sk-container-id-2 div.sk-text-repr-fallback {display: none;}</style><div id=\"sk-container-id-2\" class=\"sk-top-container\"><div class=\"sk-text-repr-fallback\"><pre>LogisticRegression()</pre><b>In a Jupyter environment, please rerun this cell to show the HTML representation or trust the notebook. <br />On GitHub, the HTML representation is unable to render, please try loading this page with nbviewer.org.</b></div><div class=\"sk-container\" hidden><div class=\"sk-item\"><div class=\"sk-estimator sk-toggleable\"><input class=\"sk-toggleable__control sk-hidden--visually\" id=\"sk-estimator-id-2\" type=\"checkbox\" checked><label for=\"sk-estimator-id-2\" class=\"sk-toggleable__label sk-toggleable__label-arrow\">LogisticRegression</label><div class=\"sk-toggleable__content\"><pre>LogisticRegression()</pre></div></div></div></div></div>"
            ]
          },
          "metadata": {},
          "execution_count": 12
        }
      ]
    },
    {
      "cell_type": "code",
      "source": [
        "y_predicao = modelo.predict(x_teste)\n",
        "y_predicao"
      ],
      "metadata": {
        "colab": {
          "base_uri": "https://localhost:8080/"
        },
        "id": "fa6J2Gc_UCob",
        "outputId": "8869beff-b76c-4f5c-e105-e949fce25c75"
      },
      "execution_count": 13,
      "outputs": [
        {
          "output_type": "execute_result",
          "data": {
            "text/plain": [
              "array([1, 0, 2, 1, 1, 0, 1, 2, 1, 1, 2, 0, 0, 0, 0, 1, 2, 1, 1, 2, 0, 2,\n",
              "       0, 2, 2, 2, 2, 2, 0, 0, 0, 0, 1, 0, 0, 2, 1, 0, 0, 0, 2, 1, 1, 0,\n",
              "       0, 1, 2, 2, 1, 2, 1, 2, 1, 0, 2, 1, 0, 0, 0, 1, 2, 0, 0, 0, 1, 0,\n",
              "       1, 2, 0, 1, 2, 0, 2, 2, 1])"
            ]
          },
          "metadata": {},
          "execution_count": 13
        }
      ]
    },
    {
      "cell_type": "code",
      "source": [
        "acuracia = modelo.score(x_teste, y_teste)\n",
        "print(acuracia)"
      ],
      "metadata": {
        "colab": {
          "base_uri": "https://localhost:8080/"
        },
        "id": "45APYycRUQbL",
        "outputId": "f35947fb-35a8-411a-dae0-82f9b80aa220"
      },
      "execution_count": 14,
      "outputs": [
        {
          "output_type": "stream",
          "name": "stdout",
          "text": [
            "1.0\n"
          ]
        }
      ]
    },
    {
      "cell_type": "markdown",
      "source": [
        "#K-Means\n",
        "\n"
      ],
      "metadata": {
        "id": "OzWcoxTsWc72"
      }
    },
    {
      "cell_type": "code",
      "source": [
        "# importando funções do scikitlearn lib\n",
        "from sklearn.cluster import KMeans\n",
        "from sklearn.datasets import make_blobs\n",
        "import matplotlib.pyplot as plt"
      ],
      "metadata": {
        "id": "n90h6rYXWkS4"
      },
      "execution_count": 15,
      "outputs": []
    },
    {
      "cell_type": "code",
      "source": [
        "x_blobs, y_blobs = make_blobs(n_samples = 1000, centers=3, random_state=42)"
      ],
      "metadata": {
        "id": "RBOlLaSNY46t"
      },
      "execution_count": 16,
      "outputs": []
    },
    {
      "cell_type": "code",
      "source": [
        "modelok = KMeans(n_clusters=3)"
      ],
      "metadata": {
        "id": "1GXQK3qUZgmr"
      },
      "execution_count": 17,
      "outputs": []
    },
    {
      "cell_type": "code",
      "source": [
        "modelok.fit(x_blobs)"
      ],
      "metadata": {
        "colab": {
          "base_uri": "https://localhost:8080/",
          "height": 129
        },
        "id": "9D_DThOXZq_n",
        "outputId": "41fe9043-3925-467c-fa24-095f16a2862b"
      },
      "execution_count": 18,
      "outputs": [
        {
          "output_type": "stream",
          "name": "stderr",
          "text": [
            "/usr/local/lib/python3.10/dist-packages/sklearn/cluster/_kmeans.py:870: FutureWarning: The default value of `n_init` will change from 10 to 'auto' in 1.4. Set the value of `n_init` explicitly to suppress the warning\n",
            "  warnings.warn(\n"
          ]
        },
        {
          "output_type": "execute_result",
          "data": {
            "text/plain": [
              "KMeans(n_clusters=3)"
            ],
            "text/html": [
              "<style>#sk-container-id-3 {color: black;background-color: white;}#sk-container-id-3 pre{padding: 0;}#sk-container-id-3 div.sk-toggleable {background-color: white;}#sk-container-id-3 label.sk-toggleable__label {cursor: pointer;display: block;width: 100%;margin-bottom: 0;padding: 0.3em;box-sizing: border-box;text-align: center;}#sk-container-id-3 label.sk-toggleable__label-arrow:before {content: \"▸\";float: left;margin-right: 0.25em;color: #696969;}#sk-container-id-3 label.sk-toggleable__label-arrow:hover:before {color: black;}#sk-container-id-3 div.sk-estimator:hover label.sk-toggleable__label-arrow:before {color: black;}#sk-container-id-3 div.sk-toggleable__content {max-height: 0;max-width: 0;overflow: hidden;text-align: left;background-color: #f0f8ff;}#sk-container-id-3 div.sk-toggleable__content pre {margin: 0.2em;color: black;border-radius: 0.25em;background-color: #f0f8ff;}#sk-container-id-3 input.sk-toggleable__control:checked~div.sk-toggleable__content {max-height: 200px;max-width: 100%;overflow: auto;}#sk-container-id-3 input.sk-toggleable__control:checked~label.sk-toggleable__label-arrow:before {content: \"▾\";}#sk-container-id-3 div.sk-estimator input.sk-toggleable__control:checked~label.sk-toggleable__label {background-color: #d4ebff;}#sk-container-id-3 div.sk-label input.sk-toggleable__control:checked~label.sk-toggleable__label {background-color: #d4ebff;}#sk-container-id-3 input.sk-hidden--visually {border: 0;clip: rect(1px 1px 1px 1px);clip: rect(1px, 1px, 1px, 1px);height: 1px;margin: -1px;overflow: hidden;padding: 0;position: absolute;width: 1px;}#sk-container-id-3 div.sk-estimator {font-family: monospace;background-color: #f0f8ff;border: 1px dotted black;border-radius: 0.25em;box-sizing: border-box;margin-bottom: 0.5em;}#sk-container-id-3 div.sk-estimator:hover {background-color: #d4ebff;}#sk-container-id-3 div.sk-parallel-item::after {content: \"\";width: 100%;border-bottom: 1px solid gray;flex-grow: 1;}#sk-container-id-3 div.sk-label:hover label.sk-toggleable__label {background-color: #d4ebff;}#sk-container-id-3 div.sk-serial::before {content: \"\";position: absolute;border-left: 1px solid gray;box-sizing: border-box;top: 0;bottom: 0;left: 50%;z-index: 0;}#sk-container-id-3 div.sk-serial {display: flex;flex-direction: column;align-items: center;background-color: white;padding-right: 0.2em;padding-left: 0.2em;position: relative;}#sk-container-id-3 div.sk-item {position: relative;z-index: 1;}#sk-container-id-3 div.sk-parallel {display: flex;align-items: stretch;justify-content: center;background-color: white;position: relative;}#sk-container-id-3 div.sk-item::before, #sk-container-id-3 div.sk-parallel-item::before {content: \"\";position: absolute;border-left: 1px solid gray;box-sizing: border-box;top: 0;bottom: 0;left: 50%;z-index: -1;}#sk-container-id-3 div.sk-parallel-item {display: flex;flex-direction: column;z-index: 1;position: relative;background-color: white;}#sk-container-id-3 div.sk-parallel-item:first-child::after {align-self: flex-end;width: 50%;}#sk-container-id-3 div.sk-parallel-item:last-child::after {align-self: flex-start;width: 50%;}#sk-container-id-3 div.sk-parallel-item:only-child::after {width: 0;}#sk-container-id-3 div.sk-dashed-wrapped {border: 1px dashed gray;margin: 0 0.4em 0.5em 0.4em;box-sizing: border-box;padding-bottom: 0.4em;background-color: white;}#sk-container-id-3 div.sk-label label {font-family: monospace;font-weight: bold;display: inline-block;line-height: 1.2em;}#sk-container-id-3 div.sk-label-container {text-align: center;}#sk-container-id-3 div.sk-container {/* jupyter's `normalize.less` sets `[hidden] { display: none; }` but bootstrap.min.css set `[hidden] { display: none !important; }` so we also need the `!important` here to be able to override the default hidden behavior on the sphinx rendered scikit-learn.org. See: https://github.com/scikit-learn/scikit-learn/issues/21755 */display: inline-block !important;position: relative;}#sk-container-id-3 div.sk-text-repr-fallback {display: none;}</style><div id=\"sk-container-id-3\" class=\"sk-top-container\"><div class=\"sk-text-repr-fallback\"><pre>KMeans(n_clusters=3)</pre><b>In a Jupyter environment, please rerun this cell to show the HTML representation or trust the notebook. <br />On GitHub, the HTML representation is unable to render, please try loading this page with nbviewer.org.</b></div><div class=\"sk-container\" hidden><div class=\"sk-item\"><div class=\"sk-estimator sk-toggleable\"><input class=\"sk-toggleable__control sk-hidden--visually\" id=\"sk-estimator-id-3\" type=\"checkbox\" checked><label for=\"sk-estimator-id-3\" class=\"sk-toggleable__label sk-toggleable__label-arrow\">KMeans</label><div class=\"sk-toggleable__content\"><pre>KMeans(n_clusters=3)</pre></div></div></div></div></div>"
            ]
          },
          "metadata": {},
          "execution_count": 18
        }
      ]
    },
    {
      "cell_type": "code",
      "source": [
        "predicao = modelok.predict(x_blobs)\n",
        "predicao"
      ],
      "metadata": {
        "id": "_P5dxVkJaI4u",
        "colab": {
          "base_uri": "https://localhost:8080/"
        },
        "outputId": "0c50ba40-d102-4925-a419-ce96a25d0a0d"
      },
      "execution_count": 19,
      "outputs": [
        {
          "output_type": "execute_result",
          "data": {
            "text/plain": [
              "array([1, 1, 2, 0, 0, 1, 2, 2, 2, 2, 0, 1, 0, 2, 2, 2, 0, 0, 0, 0, 2, 1,\n",
              "       1, 1, 2, 0, 0, 0, 2, 2, 1, 1, 2, 0, 0, 1, 1, 2, 1, 1, 0, 2, 0, 1,\n",
              "       0, 1, 0, 0, 1, 2, 1, 0, 2, 1, 0, 1, 0, 0, 0, 2, 2, 0, 1, 1, 0, 0,\n",
              "       1, 2, 2, 0, 1, 0, 2, 2, 2, 1, 2, 0, 0, 0, 2, 0, 0, 0, 2, 1, 2, 1,\n",
              "       0, 0, 0, 0, 2, 2, 1, 2, 1, 0, 2, 2, 2, 1, 1, 0, 1, 2, 2, 0, 2, 0,\n",
              "       1, 2, 2, 2, 0, 2, 1, 1, 2, 0, 0, 2, 1, 2, 1, 1, 2, 1, 2, 2, 0, 2,\n",
              "       2, 1, 0, 1, 0, 2, 2, 2, 0, 0, 1, 1, 1, 0, 2, 0, 0, 0, 0, 1, 2, 1,\n",
              "       0, 2, 0, 2, 0, 1, 2, 0, 0, 2, 0, 0, 2, 2, 1, 1, 2, 0, 0, 2, 0, 1,\n",
              "       2, 1, 2, 1, 0, 2, 0, 2, 0, 1, 0, 1, 0, 1, 2, 0, 2, 2, 0, 1, 2, 2,\n",
              "       2, 1, 0, 2, 0, 0, 2, 0, 2, 0, 0, 2, 2, 1, 1, 2, 2, 0, 1, 0, 1, 2,\n",
              "       1, 1, 2, 0, 1, 0, 0, 2, 1, 0, 0, 1, 0, 1, 2, 2, 1, 2, 1, 2, 1, 1,\n",
              "       1, 2, 1, 0, 2, 0, 2, 0, 2, 2, 1, 2, 0, 2, 0, 2, 2, 2, 2, 0, 1, 2,\n",
              "       1, 1, 2, 0, 0, 1, 2, 0, 2, 2, 0, 1, 0, 1, 1, 2, 1, 2, 1, 2, 2, 0,\n",
              "       0, 2, 0, 1, 1, 0, 2, 2, 1, 0, 2, 1, 1, 0, 1, 1, 2, 1, 0, 2, 1, 2,\n",
              "       1, 1, 1, 1, 1, 2, 1, 1, 2, 0, 1, 1, 2, 1, 1, 2, 1, 2, 0, 2, 0, 0,\n",
              "       2, 2, 1, 1, 1, 0, 1, 2, 1, 2, 1, 2, 2, 2, 0, 0, 1, 1, 0, 0, 0, 0,\n",
              "       0, 2, 0, 0, 2, 0, 0, 1, 2, 2, 2, 2, 1, 2, 1, 1, 1, 2, 2, 0, 0, 2,\n",
              "       0, 2, 0, 1, 2, 0, 1, 2, 1, 2, 2, 1, 0, 1, 2, 1, 2, 0, 1, 0, 1, 1,\n",
              "       1, 0, 2, 0, 0, 1, 0, 2, 0, 1, 2, 0, 0, 1, 2, 0, 1, 1, 1, 2, 1, 0,\n",
              "       1, 2, 0, 0, 0, 0, 0, 1, 2, 1, 2, 2, 0, 0, 1, 0, 1, 2, 1, 2, 1, 0,\n",
              "       1, 1, 1, 2, 0, 0, 2, 0, 1, 1, 1, 1, 0, 0, 1, 0, 2, 1, 2, 0, 2, 2,\n",
              "       0, 0, 2, 2, 2, 1, 2, 0, 1, 0, 0, 1, 1, 2, 1, 0, 2, 0, 1, 2, 1, 2,\n",
              "       2, 0, 2, 1, 0, 0, 0, 2, 0, 1, 0, 1, 2, 2, 1, 1, 1, 0, 1, 0, 0, 2,\n",
              "       0, 2, 0, 2, 0, 1, 2, 0, 1, 2, 1, 0, 0, 0, 0, 0, 0, 2, 1, 0, 2, 2,\n",
              "       2, 0, 0, 2, 0, 1, 2, 0, 0, 2, 2, 1, 1, 1, 1, 0, 1, 0, 0, 0, 1, 1,\n",
              "       1, 0, 0, 0, 0, 0, 1, 2, 0, 0, 0, 0, 0, 0, 1, 1, 2, 2, 0, 0, 2, 2,\n",
              "       1, 1, 0, 1, 1, 1, 2, 0, 1, 1, 1, 0, 1, 0, 1, 2, 2, 1, 1, 1, 1, 0,\n",
              "       2, 2, 0, 2, 0, 2, 2, 2, 2, 0, 1, 1, 2, 0, 1, 0, 0, 1, 0, 1, 1, 2,\n",
              "       1, 0, 0, 1, 2, 2, 0, 0, 1, 1, 2, 1, 2, 0, 2, 1, 1, 0, 0, 1, 0, 2,\n",
              "       1, 2, 1, 2, 0, 2, 1, 0, 0, 2, 1, 1, 2, 2, 1, 1, 2, 1, 0, 0, 2, 0,\n",
              "       2, 1, 0, 1, 2, 2, 0, 0, 1, 0, 2, 2, 1, 0, 1, 1, 1, 2, 1, 0, 2, 1,\n",
              "       2, 0, 2, 0, 2, 2, 0, 0, 1, 2, 0, 2, 0, 2, 2, 1, 0, 1, 0, 1, 2, 2,\n",
              "       2, 1, 2, 1, 2, 2, 1, 1, 0, 0, 1, 1, 0, 2, 1, 2, 0, 2, 2, 1, 0, 0,\n",
              "       1, 2, 1, 0, 0, 1, 2, 0, 2, 0, 2, 1, 2, 2, 1, 1, 1, 2, 2, 0, 0, 2,\n",
              "       2, 1, 2, 0, 1, 1, 1, 1, 1, 1, 1, 1, 1, 1, 2, 0, 2, 1, 0, 0, 0, 1,\n",
              "       2, 1, 2, 0, 2, 1, 0, 0, 2, 1, 2, 1, 0, 2, 1, 0, 1, 1, 2, 2, 1, 0,\n",
              "       1, 2, 0, 0, 0, 1, 2, 1, 1, 0, 1, 2, 0, 2, 2, 1, 0, 0, 0, 0, 0, 1,\n",
              "       0, 1, 1, 1, 1, 0, 2, 1, 1, 2, 0, 0, 2, 2, 1, 0, 2, 1, 0, 1, 2, 0,\n",
              "       0, 1, 2, 2, 0, 2, 2, 2, 0, 2, 1, 1, 0, 2, 1, 1, 1, 2, 1, 2, 1, 1,\n",
              "       2, 2, 0, 1, 0, 1, 1, 0, 1, 1, 1, 0, 1, 1, 2, 2, 1, 2, 2, 0, 0, 0,\n",
              "       0, 1, 1, 2, 2, 2, 1, 0, 2, 2, 2, 2, 2, 1, 0, 1, 1, 0, 2, 1, 1, 0,\n",
              "       2, 0, 0, 1, 0, 1, 0, 1, 0, 2, 2, 2, 1, 1, 0, 2, 2, 1, 1, 1, 2, 0,\n",
              "       2, 1, 2, 0, 0, 0, 1, 0, 0, 1, 2, 1, 1, 2, 0, 0, 1, 0, 2, 2, 2, 2,\n",
              "       2, 0, 0, 2, 2, 0, 0, 2, 0, 1, 0, 0, 1, 0, 2, 2, 1, 2, 1, 0, 1, 0,\n",
              "       1, 2, 0, 1, 2, 0, 2, 1, 2, 1, 0, 1, 2, 0, 0, 2, 1, 0, 0, 0, 2, 2,\n",
              "       0, 0, 2, 2, 2, 1, 0, 2, 2, 1], dtype=int32)"
            ]
          },
          "metadata": {},
          "execution_count": 19
        }
      ]
    },
    {
      "cell_type": "code",
      "source": [
        "plt.scatter(x_blobs[:,0],x_blobs[:,1],c=predicao)\n",
        "plt.show()"
      ],
      "metadata": {
        "colab": {
          "base_uri": "https://localhost:8080/",
          "height": 430
        },
        "id": "5XEBuqG9abVd",
        "outputId": "c4356bac-9f78-455b-f5bb-66a80f427b4a"
      },
      "execution_count": 20,
      "outputs": [
        {
          "output_type": "display_data",
          "data": {
            "text/plain": [
              "<Figure size 640x480 with 1 Axes>"
            ],
            "image/png": "[encoded data removed]"
          },
          "metadata": {}
        }
      ]
    }
  ]
}